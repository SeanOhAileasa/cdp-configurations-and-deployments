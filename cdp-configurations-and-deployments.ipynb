{
 "cells": [
  {
   "cell_type": "markdown",
   "id": "e98e4e90",
   "metadata": {},
   "source": [
    "***\n",
    "< [Home](https://github.com/SeanOhAileasa) | [README](https://github.com/SeanOhAileasa/cdp-cloud-terminology/blob/main/README.md) >\n",
    "\n",
    "## CompTIA Cloud+ (CV0-003) - Course Material 2022\n",
    "###### Topic: ``Introducing Cloud Computing Configurations and Deployments``\n",
    "***"
   ]
  },
  {
   "cell_type": "markdown",
   "id": "b82b07fb",
   "metadata": {},
   "source": [
    "Course material for the ``CompTIA Cloud+`` certification supplement to the ``ICT Associate Apprenticeship (Cybersecurity)`` programme. "
   ]
  },
  {
   "cell_type": "markdown",
   "id": "e7228f57",
   "metadata": {},
   "source": [
    "<a id=\"top\"></a>\n",
    "***\n",
    "## Table of Contents\n",
    "***"
   ]
  },
  {
   "cell_type": "markdown",
   "id": "40ec1d36",
   "metadata": {},
   "source": [
    "### [Introducing Cloud Computing Configurations and Deployments](#a) <br/><br/>\n",
    "\n",
    "###### Thursday 7th July 2022 <br/><br/>\n",
    "- [Introducing Cloud Computing](#202207071) \n",
    "<hr width=50%;>"
   ]
  },
  {
   "cell_type": "markdown",
   "id": "68e9909b",
   "metadata": {},
   "source": [
    "###### Monday 11th July 2022 <br/><br/>\n",
    "- [Introducing Cloud Computing](#2022071111) \n",
    "<hr width=50%;>    \n",
    "- [Creating and Validating a Cloud Deployment](#202207114) \n",
    "<hr width=50%;>\n",
    "- [Verifying System Requirements](#2022071114) \n",
    "<hr width=50%;>\n",
    "- [VMware Hypervisor Type II](#202207115)\n",
    "<hr width=50%;>"
   ]
  },
  {
   "cell_type": "markdown",
   "id": "bf2b95e2",
   "metadata": {},
   "source": [
    "***\n",
    "## END"
   ]
  },
  {
   "cell_type": "markdown",
   "id": "2656d962",
   "metadata": {},
   "source": [
    "< [Table of Contents](#top) | [References](#references) >\n",
    "<a id=\"a\"></a>\n",
    "***\n",
    "### Introducing Cloud Computing Configurations and Deployments\n",
    "***"
   ]
  },
  {
   "cell_type": "markdown",
   "id": "49cb700f",
   "metadata": {},
   "source": [
    "###### Thursday 7th July 2022 <br/><br/>"
   ]
  },
  {
   "cell_type": "markdown",
   "id": "f422406d",
   "metadata": {},
   "source": [
    "< [Table of Contents](#top) | [References](#references) >\n",
    "<a id=\"202207071\"></a>\n",
    "***\n",
    "###### Introducing Cloud Computing [1]\n",
    "***"
   ]
  },
  {
   "cell_type": "markdown",
   "id": "fd78c016",
   "metadata": {},
   "source": [
    "- Virtualization\n",
    "- Cloud Service Models\n",
    "- Cloud Reference Designs and Delivery Models\n",
    "- Introducing Cloud Concepts and Components\n",
    "- Connecting the Cloud to the Outside World\n",
    "- Deciding Whether to Move to the Cloud\n",
    "- Selecting Cloud Compute Resources\n",
    "- Hypervisor Affinity Rules\n",
    "- Validating and Preparing for the Move to the Cloud\n",
    "- Choosing Elements and Objects in the Cloud"
   ]
  },
  {
   "cell_type": "markdown",
   "id": "84fd1d9d",
   "metadata": {},
   "source": [
    "###### Monday 11th July 2022 <br/><br/>"
   ]
  },
  {
   "cell_type": "markdown",
   "id": "f5ad397c",
   "metadata": {},
   "source": [
    "< [Table of Contents](#top) | [References](#references) >\n",
    "<a id=\"2022071111\"></a>\n",
    "***\n",
    "###### Introducing Cloud Computing [1]\n",
    "***"
   ]
  },
  {
   "cell_type": "markdown",
   "id": "6e2f141c",
   "metadata": {},
   "source": [
    "- Internet of Things\n",
    "- Machine Learning/Artificial Intelligence"
   ]
  },
  {
   "cell_type": "markdown",
   "id": "ae249759",
   "metadata": {},
   "source": [
    "< [Table of Contents](#top) | [References](#references) >\n",
    "<a id=\"202207114\"></a>\n",
    "***\n",
    "###### Creating and Validating a Cloud Deployment [1]\n",
    "***"
   ]
  },
  {
   "cell_type": "markdown",
   "id": "83be79be",
   "metadata": {},
   "source": [
    "- The Cloud Shared Resource Pooling Model\n",
    "- Organizational Uses of the Cloud\n",
    "- Scaling and Architecting Cloud Systems Based on Requirements\n",
    "- Understanding Cloud Performance\n",
    "- Delivering High Availability Operations\n",
    "- Managing and Connecting to Your Cloud Resources\n",
    "- Is My Data Safe? (Replication and Synchronization)\n",
    "- Understanding Load Balancers\n",
    "\n",
    "[ [System Design: What is Load Balancing?](https://www.youtube.com/watch?v=gMIslJN44P0) ]\n",
    "\n",
    "- Cloud Testing"
   ]
  },
  {
   "cell_type": "markdown",
   "id": "50f395a8",
   "metadata": {},
   "source": [
    "< [Table of Contents](#top) | [References](#references) >\n",
    "<a id=\"2022071114\"></a>\n",
    "***\n",
    "###### Verifying System Requirements [1]\n",
    "\n",
    "***"
   ]
  },
  {
   "cell_type": "markdown",
   "id": "c4488bb9",
   "metadata": {},
   "source": [
    "- Correct Scaling for Your Requirements\n",
    "- Making Sure the Cloud Is Always Available\n",
    "- Remote Management of VMs\n",
    "- Monitoring Your Cloud Resources\n",
    "- Writing It All Down (Documentation)\n",
    "- Creating Baselines\n",
    "- Shared Responsibility Model"
   ]
  },
  {
   "cell_type": "markdown",
   "id": "98175ddd",
   "metadata": {},
   "source": [
    "< [Table of Contents](#top) | [References](#references) >\n",
    "<a id=\"202207115\"></a>\n",
    "***\n",
    "###### VMware Hypervisor Type II\n",
    "***"
   ]
  },
  {
   "cell_type": "markdown",
   "id": "b065b8da",
   "metadata": {},
   "source": [
    "[ [vmware](https://www.vmware.com/products/workstation-pro/workstation-pro-evaluation.html) ]"
   ]
  },
  {
   "cell_type": "markdown",
   "id": "2cc20932",
   "metadata": {},
   "source": [
    "***\n",
    "## END"
   ]
  },
  {
   "cell_type": "markdown",
   "id": "e0e42d51",
   "metadata": {},
   "source": [
    "< [Table of Contents](#top) >\n",
    "<a id=\"references\"></a>\n",
    "***\n",
    "## References\n",
    "***"
   ]
  },
  {
   "cell_type": "markdown",
   "id": "ff68247c",
   "metadata": {},
   "source": [
    "Loughlinstown ETB with Hartley People\n",
    "\n",
    "\n",
    "&nbsp;&nbsp;&nbsp;&nbsp;&nbsp;&nbsp;&nbsp;&nbsp;&nbsp;[1] Wilson. S, Vanderburg E., \"Introducing Cloud Computing Configurations and Deployments,\" CompTIA Cloud+ Study Guide: Exam CV0-003, Third Edition, 2021."
   ]
  },
  {
   "cell_type": "markdown",
   "id": "b33c372a",
   "metadata": {},
   "source": [
    "***\n",
    "## END"
   ]
  },
  {
   "cell_type": "markdown",
   "id": "e5961b4d",
   "metadata": {},
   "source": [
    "< [Table of Contents](#top) | [References](#references) >\n",
    "<a id=\"appendix\"></a>\n",
    "***\n",
    "## Appendix\n",
    "***"
   ]
  },
  {
   "cell_type": "markdown",
   "id": "79efa59f",
   "metadata": {},
   "source": [
    "> ``VM`` = ``Guest``"
   ]
  },
  {
   "cell_type": "markdown",
   "id": "00d82a82",
   "metadata": {},
   "source": [
    "***\n",
    "## END"
   ]
  },
  {
   "cell_type": "code",
   "execution_count": 1,
   "id": "706756a2",
   "metadata": {},
   "outputs": [
    {
     "name": "stderr",
     "output_type": "stream",
     "text": [
      "C:\\Users\\SeanOhAileasa\\AppData\\Local\\Temp\\ipykernel_11752\\1322614208.py:1: DeprecationWarning: Importing display from IPython.core.display is deprecated since IPython 7.14, please import from IPython display\n",
      "  from IPython.core.display import display,HTML\n"
     ]
    },
    {
     "data": {
      "text/html": [
       "<style>.container { width:100% !important; }</style>"
      ],
      "text/plain": [
       "<IPython.core.display.HTML object>"
      ]
     },
     "metadata": {},
     "output_type": "display_data"
    }
   ],
   "source": [
    "from IPython.core.display import display,HTML\n",
    "display(HTML(\"<style>.container { width:100% !important; }</style>\"))"
   ]
  },
  {
   "cell_type": "markdown",
   "id": "899c1783",
   "metadata": {},
   "source": [
    "# END JUPYTER NOTEBOOK"
   ]
  }
 ],
 "metadata": {
  "kernelspec": {
   "display_name": "Python 3 (ipykernel)",
   "language": "python",
   "name": "python3"
  },
  "language_info": {
   "codemirror_mode": {
    "name": "ipython",
    "version": 3
   },
   "file_extension": ".py",
   "mimetype": "text/x-python",
   "name": "python",
   "nbconvert_exporter": "python",
   "pygments_lexer": "ipython3",
   "version": "3.9.12"
  }
 },
 "nbformat": 4,
 "nbformat_minor": 5
}
